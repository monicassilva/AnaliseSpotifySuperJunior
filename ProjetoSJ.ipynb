{
  "cells": [
    {
      "cell_type": "code",
      "execution_count": null,
      "metadata": {
        "colab": {
          "background_save": true
        },
        "id": "ORRWWm7DB-Vf"
      },
      "outputs": [],
      "source": [
        "#instala a api\n",
        "!pip install Spotipy\n"
      ]
    },
    {
      "cell_type": "code",
      "execution_count": null,
      "metadata": {
        "colab": {
          "background_save": true
        },
        "id": "xAlYfM0-IV02"
      },
      "outputs": [],
      "source": [
        "#conexão - para encontrar seu client_id e client secreat acesse : https://developer.spotify.com/\n",
        "\n",
        "from spotipy.oauth2 import SpotifyClientCredentials\n",
        "import spotipy\n",
        "import sys\n",
        "import csv\n",
        " \n",
        "sp = spotipy.Spotify(client_credentials_manager = SpotifyClientCredentials(client_id=\"#\", client_secret=\"#\"))\n",
        "\n"
      ]
    },
    {
      "cell_type": "code",
      "execution_count": null,
      "metadata": {
        "colab": {
          "background_save": true
        },
        "id": "9ItKD1llHbRe"
      },
      "outputs": [],
      "source": [
        "#função para recuperar os dados do artista escolhido\n",
        "\n",
        "def get_artist(name):\n",
        "    results = sp.search(name)\n",
        "    items = results['tracks']['items']\n",
        "    if len(items) > 0:\n",
        "        return items[0]['artists'][0]\n",
        "    else:\n",
        "        return None"
      ]
    },
    {
      "cell_type": "code",
      "execution_count": null,
      "metadata": {
        "colab": {
          "background_save": true
        },
        "id": "6CLqkI5MHjRT"
      },
      "outputs": [],
      "source": [
        "#recuperar o id do artista (para verificar artista repetidos)\n",
        "\n",
        "def get_artist_id(artist):\n",
        "    return artist['id']"
      ]
    },
    {
      "cell_type": "code",
      "execution_count": null,
      "metadata": {
        "colab": {
          "background_save": true
        },
        "id": "rHcnU4LbHrNm"
      },
      "outputs": [],
      "source": [
        "#função para recuperar os albuns do artista \n",
        "\n",
        "def get_artist_albums_id_names(id):\n",
        "  albums = sp.artist_albums(id, country = 'BR', limit=100)\n",
        "  albums_id_name = {}\n",
        "  for i in range(len(albums['items'])):\n",
        "    id = albums['items'][i]['id']\n",
        "    name = albums['items'][i]['name']\n",
        "    albums_id_name[id] = name\n",
        " \n",
        "  return albums_id_name"
      ]
    },
    {
      "cell_type": "code",
      "execution_count": null,
      "metadata": {
        "colab": {
          "background_save": true
        },
        "id": "wqy1IRYKHvhy"
      },
      "outputs": [],
      "source": [
        "# coletar os dados das músicas   \n",
        "\n",
        "def get_album_songs(album_id, album_name):\n",
        "  spotify_album = {}\n",
        " \n",
        "  tracks = sp.album_tracks(album_id)\n",
        "  \n",
        "  for n in range(len(tracks['items'])):\n",
        "    id_track = tracks['items'][n]['id']\n",
        "    track = sp.track(id_track)\n",
        "    spotify_album[id_track] = {}\n",
        "    \n",
        "    spotify_album[id_track]['album'] = album_name\n",
        "    spotify_album[id_track]['album_type'] = track['album']['album_type']\n",
        "    spotify_album[id_track]['track_number'] = track['track_number']\n",
        "    spotify_album[id_track]['id_track'] = track['id']\n",
        "    spotify_album[id_track]['name'] = track['name']\n",
        "    spotify_album[id_track]['popularity'] = track['popularity']\n",
        "    spotify_album[id_track]['explicit'] = track['explicit']\n",
        "    spotify_album[id_track]['duration_ms'] = track['duration_ms']\n",
        "    spotify_album[id_track]['release_date'] = track['album']['release_date']\n",
        " \n",
        "    artists_track = track['artists']\n",
        "    spotify_album[id_track]['artists'] = []\n",
        "    for artist in artists_track:\n",
        "      spotify_album[id_track]['artists'].append(artist['name'])\n",
        "  return spotify_album\n"
      ]
    },
    {
      "cell_type": "code",
      "execution_count": null,
      "metadata": {
        "colab": {
          "background_save": true
        },
        "id": "txSSe_voH0Wo"
      },
      "outputs": [],
      "source": [
        "#coleta dos dados á todos os álbuns do artista a recuperar\n",
        "\n",
        "def get_all_albums_songs(albums_ids_names):\n",
        "  spotify_albums = []\n",
        "  albums_names = []\n",
        "  for id, name in albums_ids_names.items():\n",
        "    if name not in albums_names:\n",
        "      albums_names.append(name)\n",
        "      album_songs = get_album_songs(id,name) \n",
        "    for item in album_songs.items():\n",
        "      spotify_albums.append(item[1]) \n",
        "  return spotify_albums\n"
      ]
    },
    {
      "cell_type": "code",
      "execution_count": null,
      "metadata": {
        "colab": {
          "background_save": true
        },
        "id": "eIuLLTIYH5Iq"
      },
      "outputs": [],
      "source": [
        "#converte os dados em csv\n",
        "\n",
        "def convert_to_csv(filepath, name):\n",
        "  keys = filepath[0].keys()\n",
        "  print(keys)\n",
        "  csv_name = ''+ name + '.csv'\n",
        "  with open(csv_name, 'w') as output_file:\n",
        "    dict_writer = csv.DictWriter(output_file, keys)\n",
        "    dict_writer.writeheader()\n",
        "    dict_writer.writerows(filepath)\n",
        "  return"
      ]
    },
    {
      "cell_type": "code",
      "execution_count": null,
      "metadata": {
        "colab": {
          "background_save": true
        },
        "id": "4InkNMIsMaUD"
      },
      "outputs": [],
      "source": [
        "#escolha do artista\n",
        "name = \"Super Junior\"\n",
        "artist = get_artist(name)    \n",
        "if artist:\n",
        "  artist_id = get_artist_id(artist)\n",
        "  albums_id_names = get_artist_albums_id_names(artist_id)\n",
        "  all_albums = get_all_albums_songs(albums_id_names)\n",
        "  convert_to_csv(all_albums, 'superjunior')   \n",
        "else:\n",
        "  logger.error(\"Can't find artist: %s\", artist)\n"
      ]
    }
  ],
  "metadata": {
    "colab": {
      "provenance": [],
      "authorship_tag": "ABX9TyMvOomsXeiMY1US+wiUSSlS"
    },
    "kernelspec": {
      "display_name": "Python 3",
      "name": "python3"
    },
    "language_info": {
      "name": "python"
    }
  },
  "nbformat": 4,
  "nbformat_minor": 0
}